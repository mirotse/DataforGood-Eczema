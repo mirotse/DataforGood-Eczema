{
 "cells": [
  {
   "cell_type": "markdown",
   "metadata": {},
   "source": [
    "# Analyse des données patients"
   ]
  },
  {
   "cell_type": "markdown",
   "metadata": {},
   "source": [
    "1. Import des données"
   ]
  },
  {
   "cell_type": "code",
   "execution_count": 56,
   "metadata": {
    "collapsed": true
   },
   "outputs": [],
   "source": [
    "import pandas as pd"
   ]
  },
  {
   "cell_type": "code",
   "execution_count": 57,
   "metadata": {
    "collapsed": true,
    "scrolled": true
   },
   "outputs": [],
   "source": [
    "df = pd.read_table('MAARS_all_Fri_Apr_04_14h_CEST_2014.csv')"
   ]
  },
  {
   "cell_type": "code",
   "execution_count": 58,
   "metadata": {},
   "outputs": [],
   "source": [
    "df_AD = pd.read_table('MAARS_AD_full_20190131_12-34-49.csv')"
   ]
  },
  {
   "cell_type": "code",
   "execution_count": 83,
   "metadata": {
    "collapsed": true
   },
   "outputs": [],
   "source": [
    "df_trans = pd.read_table('MAARS_normTranscriptome_618samples_16042014.txt')"
   ]
  },
  {
   "cell_type": "markdown",
   "metadata": {},
   "source": [
    "2. Exploration des données df"
   ]
  },
  {
   "cell_type": "code",
   "execution_count": 59,
   "metadata": {},
   "outputs": [
    {
     "data": {
      "text/plain": [
       "(1317, 34)"
      ]
     },
     "execution_count": 59,
     "metadata": {},
     "output_type": "execute_result"
    }
   ],
   "source": [
    "df.shape"
   ]
  },
  {
   "cell_type": "code",
   "execution_count": 60,
   "metadata": {},
   "outputs": [
    {
     "data": {
      "text/html": [
       "<div>\n",
       "<style>\n",
       "    .dataframe thead tr:only-child th {\n",
       "        text-align: right;\n",
       "    }\n",
       "\n",
       "    .dataframe thead th {\n",
       "        text-align: left;\n",
       "    }\n",
       "\n",
       "    .dataframe tbody tr th {\n",
       "        vertical-align: top;\n",
       "    }\n",
       "</style>\n",
       "<table border=\"1\" class=\"dataframe\">\n",
       "  <thead>\n",
       "    <tr style=\"text-align: right;\">\n",
       "      <th></th>\n",
       "      <th>sample_id</th>\n",
       "      <th>clinical_group</th>\n",
       "      <th>anatomical_location</th>\n",
       "      <th>anatomical_location_label</th>\n",
       "      <th>lesional</th>\n",
       "      <th>MAARS_identifier</th>\n",
       "      <th>Institution</th>\n",
       "      <th>CUSTOM_Age</th>\n",
       "      <th>Gender</th>\n",
       "      <th>Known_Allergies_v2..Pseudo_Drug_Allergy</th>\n",
       "      <th>...</th>\n",
       "      <th>Other_concurrent_chronic_diseases_v2..Others</th>\n",
       "      <th>Other_concurrent_chronic_diseases_v2..Diabetes_.non.insulin.</th>\n",
       "      <th>Other_concurrent_chronic_diseases_v2..Thyroid_dysfunction</th>\n",
       "      <th>Other_concurrent_chronic_diseases_v2..Asthma</th>\n",
       "      <th>Other_concurrent_chronic_diseases_v2..Hypertension</th>\n",
       "      <th>Global_Assessment_Score</th>\n",
       "      <th>CUSTOM_Malignancies_._skin</th>\n",
       "      <th>CUSTOM_Malignancies_._other</th>\n",
       "      <th>CUSTOM_Fam._hist._Atopic_dermatitis</th>\n",
       "      <th>CUSTOM_Family_History_of_Psoriasis</th>\n",
       "    </tr>\n",
       "  </thead>\n",
       "  <tbody>\n",
       "    <tr>\n",
       "      <th>0</th>\n",
       "      <td>MAARS_3_018_02</td>\n",
       "      <td>AD</td>\n",
       "      <td>posterior_thigh</td>\n",
       "      <td>PT</td>\n",
       "      <td>NON_LES</td>\n",
       "      <td>MAARS_3_018</td>\n",
       "      <td>UH</td>\n",
       "      <td>25</td>\n",
       "      <td>Male</td>\n",
       "      <td>False</td>\n",
       "      <td>...</td>\n",
       "      <td>False</td>\n",
       "      <td>False</td>\n",
       "      <td>False</td>\n",
       "      <td>False</td>\n",
       "      <td>False</td>\n",
       "      <td>moderate</td>\n",
       "      <td>False</td>\n",
       "      <td>False</td>\n",
       "      <td>False</td>\n",
       "      <td>NaN</td>\n",
       "    </tr>\n",
       "    <tr>\n",
       "      <th>1</th>\n",
       "      <td>MAARS_3_018_01</td>\n",
       "      <td>AD</td>\n",
       "      <td>posterior_thigh</td>\n",
       "      <td>PT</td>\n",
       "      <td>LES</td>\n",
       "      <td>MAARS_3_018</td>\n",
       "      <td>UH</td>\n",
       "      <td>25</td>\n",
       "      <td>Male</td>\n",
       "      <td>False</td>\n",
       "      <td>...</td>\n",
       "      <td>False</td>\n",
       "      <td>False</td>\n",
       "      <td>False</td>\n",
       "      <td>False</td>\n",
       "      <td>False</td>\n",
       "      <td>moderate</td>\n",
       "      <td>False</td>\n",
       "      <td>False</td>\n",
       "      <td>False</td>\n",
       "      <td>NaN</td>\n",
       "    </tr>\n",
       "    <tr>\n",
       "      <th>2</th>\n",
       "      <td>MAARS_3_018_03</td>\n",
       "      <td>AD</td>\n",
       "      <td>posterior_thigh</td>\n",
       "      <td>PT</td>\n",
       "      <td>LES</td>\n",
       "      <td>MAARS_3_018</td>\n",
       "      <td>UH</td>\n",
       "      <td>25</td>\n",
       "      <td>Male</td>\n",
       "      <td>False</td>\n",
       "      <td>...</td>\n",
       "      <td>False</td>\n",
       "      <td>False</td>\n",
       "      <td>False</td>\n",
       "      <td>False</td>\n",
       "      <td>False</td>\n",
       "      <td>moderate</td>\n",
       "      <td>False</td>\n",
       "      <td>False</td>\n",
       "      <td>False</td>\n",
       "      <td>NaN</td>\n",
       "    </tr>\n",
       "    <tr>\n",
       "      <th>3</th>\n",
       "      <td>MAARS_3_018_04</td>\n",
       "      <td>AD</td>\n",
       "      <td>posterior_thigh</td>\n",
       "      <td>PT</td>\n",
       "      <td>NON_LES</td>\n",
       "      <td>MAARS_3_018</td>\n",
       "      <td>UH</td>\n",
       "      <td>25</td>\n",
       "      <td>Male</td>\n",
       "      <td>False</td>\n",
       "      <td>...</td>\n",
       "      <td>False</td>\n",
       "      <td>False</td>\n",
       "      <td>False</td>\n",
       "      <td>False</td>\n",
       "      <td>False</td>\n",
       "      <td>moderate</td>\n",
       "      <td>False</td>\n",
       "      <td>False</td>\n",
       "      <td>False</td>\n",
       "      <td>NaN</td>\n",
       "    </tr>\n",
       "    <tr>\n",
       "      <th>4</th>\n",
       "      <td>MAARS_3_082_02</td>\n",
       "      <td>AD</td>\n",
       "      <td>posterior_thigh</td>\n",
       "      <td>PT</td>\n",
       "      <td>NON_LES</td>\n",
       "      <td>MAARS_3_082</td>\n",
       "      <td>UH</td>\n",
       "      <td>62</td>\n",
       "      <td>Male</td>\n",
       "      <td>False</td>\n",
       "      <td>...</td>\n",
       "      <td>False</td>\n",
       "      <td>False</td>\n",
       "      <td>False</td>\n",
       "      <td>False</td>\n",
       "      <td>False</td>\n",
       "      <td>moderate</td>\n",
       "      <td>False</td>\n",
       "      <td>False</td>\n",
       "      <td>True</td>\n",
       "      <td>NaN</td>\n",
       "    </tr>\n",
       "  </tbody>\n",
       "</table>\n",
       "<p>5 rows × 34 columns</p>\n",
       "</div>"
      ],
      "text/plain": [
       "        sample_id clinical_group anatomical_location  \\\n",
       "0  MAARS_3_018_02             AD     posterior_thigh   \n",
       "1  MAARS_3_018_01             AD     posterior_thigh   \n",
       "2  MAARS_3_018_03             AD     posterior_thigh   \n",
       "3  MAARS_3_018_04             AD     posterior_thigh   \n",
       "4  MAARS_3_082_02             AD     posterior_thigh   \n",
       "\n",
       "  anatomical_location_label lesional MAARS_identifier Institution  CUSTOM_Age  \\\n",
       "0                        PT  NON_LES      MAARS_3_018          UH          25   \n",
       "1                        PT      LES      MAARS_3_018          UH          25   \n",
       "2                        PT      LES      MAARS_3_018          UH          25   \n",
       "3                        PT  NON_LES      MAARS_3_018          UH          25   \n",
       "4                        PT  NON_LES      MAARS_3_082          UH          62   \n",
       "\n",
       "  Gender  Known_Allergies_v2..Pseudo_Drug_Allergy  \\\n",
       "0   Male                                    False   \n",
       "1   Male                                    False   \n",
       "2   Male                                    False   \n",
       "3   Male                                    False   \n",
       "4   Male                                    False   \n",
       "\n",
       "                  ...                  \\\n",
       "0                 ...                   \n",
       "1                 ...                   \n",
       "2                 ...                   \n",
       "3                 ...                   \n",
       "4                 ...                   \n",
       "\n",
       "   Other_concurrent_chronic_diseases_v2..Others  \\\n",
       "0                                         False   \n",
       "1                                         False   \n",
       "2                                         False   \n",
       "3                                         False   \n",
       "4                                         False   \n",
       "\n",
       "   Other_concurrent_chronic_diseases_v2..Diabetes_.non.insulin.  \\\n",
       "0                                              False              \n",
       "1                                              False              \n",
       "2                                              False              \n",
       "3                                              False              \n",
       "4                                              False              \n",
       "\n",
       "   Other_concurrent_chronic_diseases_v2..Thyroid_dysfunction  \\\n",
       "0                                              False           \n",
       "1                                              False           \n",
       "2                                              False           \n",
       "3                                              False           \n",
       "4                                              False           \n",
       "\n",
       "   Other_concurrent_chronic_diseases_v2..Asthma  \\\n",
       "0                                         False   \n",
       "1                                         False   \n",
       "2                                         False   \n",
       "3                                         False   \n",
       "4                                         False   \n",
       "\n",
       "   Other_concurrent_chronic_diseases_v2..Hypertension  \\\n",
       "0                                              False    \n",
       "1                                              False    \n",
       "2                                              False    \n",
       "3                                              False    \n",
       "4                                              False    \n",
       "\n",
       "   Global_Assessment_Score  CUSTOM_Malignancies_._skin  \\\n",
       "0                 moderate                       False   \n",
       "1                 moderate                       False   \n",
       "2                 moderate                       False   \n",
       "3                 moderate                       False   \n",
       "4                 moderate                       False   \n",
       "\n",
       "   CUSTOM_Malignancies_._other  CUSTOM_Fam._hist._Atopic_dermatitis  \\\n",
       "0                        False                                False   \n",
       "1                        False                                False   \n",
       "2                        False                                False   \n",
       "3                        False                                False   \n",
       "4                        False                                 True   \n",
       "\n",
       "   CUSTOM_Family_History_of_Psoriasis  \n",
       "0                                 NaN  \n",
       "1                                 NaN  \n",
       "2                                 NaN  \n",
       "3                                 NaN  \n",
       "4                                 NaN  \n",
       "\n",
       "[5 rows x 34 columns]"
      ]
     },
     "execution_count": 60,
     "metadata": {},
     "output_type": "execute_result"
    }
   ],
   "source": [
    "df.head()"
   ]
  },
  {
   "cell_type": "code",
   "execution_count": 61,
   "metadata": {
    "scrolled": true
   },
   "outputs": [
    {
     "data": {
      "text/plain": [
       "Index(['sample_id', 'clinical_group', 'anatomical_location',\n",
       "       'anatomical_location_label', 'lesional', 'MAARS_identifier',\n",
       "       'Institution', 'CUSTOM_Age', 'Gender',\n",
       "       'Known_Allergies_v2..Pseudo_Drug_Allergy',\n",
       "       'Known_Allergies_v2..House_dust_mite', 'Known_Allergies_v2..Food',\n",
       "       'Known_Allergies_v2..Pollen', 'Known_Allergies_v2..Contact_Allergy',\n",
       "       'Known_Allergies_v2..Drug_Allergy', 'Known_Allergies_v2..Animal',\n",
       "       'Concomitant_Medication_v2..Anti.Hypertensive',\n",
       "       'Concomitant_Medication_v2..Anti.Inflammatory.non_steroid.',\n",
       "       'Concomitant_Medication_v2..Other_hormones',\n",
       "       'Concomitant_Medication_v2..Thyroid_hormones',\n",
       "       'Concomitant_Medication_v2..Statins',\n",
       "       'Concomitant_Medication_v2..Insulin',\n",
       "       'Concomitant_Medication_v2..Others',\n",
       "       'Other_concurrent_chronic_diseases_v2..Hyperlipidemia',\n",
       "       'Other_concurrent_chronic_diseases_v2..Others',\n",
       "       'Other_concurrent_chronic_diseases_v2..Diabetes_.non.insulin.',\n",
       "       'Other_concurrent_chronic_diseases_v2..Thyroid_dysfunction',\n",
       "       'Other_concurrent_chronic_diseases_v2..Asthma',\n",
       "       'Other_concurrent_chronic_diseases_v2..Hypertension',\n",
       "       'Global_Assessment_Score', 'CUSTOM_Malignancies_._skin',\n",
       "       'CUSTOM_Malignancies_._other', 'CUSTOM_Fam._hist._Atopic_dermatitis',\n",
       "       'CUSTOM_Family_History_of_Psoriasis'],\n",
       "      dtype='object')"
      ]
     },
     "execution_count": 61,
     "metadata": {},
     "output_type": "execute_result"
    }
   ],
   "source": [
    "df.columns"
   ]
  },
  {
   "cell_type": "code",
   "execution_count": 62,
   "metadata": {
    "collapsed": true
   },
   "outputs": [],
   "source": [
    "# Différents types de données\n",
    "### Description du sujet (données démographiques, histoire personnelle et familiale) > Comprendre les causes de la maladie\n",
    "### Des infos sur l'expérimentation clinique : institution, MAARS_identifier, anatomical_location > intérêt?\n",
    "### Symptômes : Global_assessment_score, malignité > Comprendre comment se manifeste la maladie"
   ]
  },
  {
   "cell_type": "code",
   "execution_count": 63,
   "metadata": {
    "scrolled": true
   },
   "outputs": [
    {
     "data": {
      "text/html": [
       "<div>\n",
       "<style>\n",
       "    .dataframe thead tr:only-child th {\n",
       "        text-align: right;\n",
       "    }\n",
       "\n",
       "    .dataframe thead th {\n",
       "        text-align: left;\n",
       "    }\n",
       "\n",
       "    .dataframe tbody tr th {\n",
       "        vertical-align: top;\n",
       "    }\n",
       "</style>\n",
       "<table border=\"1\" class=\"dataframe\">\n",
       "  <thead>\n",
       "    <tr style=\"text-align: right;\">\n",
       "      <th></th>\n",
       "      <th>CUSTOM_Age</th>\n",
       "    </tr>\n",
       "  </thead>\n",
       "  <tbody>\n",
       "    <tr>\n",
       "      <th>count</th>\n",
       "      <td>1317.000000</td>\n",
       "    </tr>\n",
       "    <tr>\n",
       "      <th>mean</th>\n",
       "      <td>43.003037</td>\n",
       "    </tr>\n",
       "    <tr>\n",
       "      <th>std</th>\n",
       "      <td>14.985251</td>\n",
       "    </tr>\n",
       "    <tr>\n",
       "      <th>min</th>\n",
       "      <td>19.000000</td>\n",
       "    </tr>\n",
       "    <tr>\n",
       "      <th>25%</th>\n",
       "      <td>29.000000</td>\n",
       "    </tr>\n",
       "    <tr>\n",
       "      <th>50%</th>\n",
       "      <td>43.000000</td>\n",
       "    </tr>\n",
       "    <tr>\n",
       "      <th>75%</th>\n",
       "      <td>54.000000</td>\n",
       "    </tr>\n",
       "    <tr>\n",
       "      <th>max</th>\n",
       "      <td>83.000000</td>\n",
       "    </tr>\n",
       "  </tbody>\n",
       "</table>\n",
       "</div>"
      ],
      "text/plain": [
       "        CUSTOM_Age\n",
       "count  1317.000000\n",
       "mean     43.003037\n",
       "std      14.985251\n",
       "min      19.000000\n",
       "25%      29.000000\n",
       "50%      43.000000\n",
       "75%      54.000000\n",
       "max      83.000000"
      ]
     },
     "execution_count": 63,
     "metadata": {},
     "output_type": "execute_result"
    }
   ],
   "source": [
    "df.describe()"
   ]
  },
  {
   "cell_type": "code",
   "execution_count": 64,
   "metadata": {},
   "outputs": [
    {
     "data": {
      "text/plain": [
       "PSO     512\n",
       "CTRL    454\n",
       "AD      351\n",
       "Name: clinical_group, dtype: int64"
      ]
     },
     "execution_count": 64,
     "metadata": {},
     "output_type": "execute_result"
    }
   ],
   "source": [
    "# AD = dermatite atopique, PSO = psoriasis, CTRL = sain\n",
    "df['clinical_group'].value_counts()"
   ]
  },
  {
   "cell_type": "code",
   "execution_count": 65,
   "metadata": {},
   "outputs": [
    {
     "data": {
      "text/plain": [
       "lower_back         595\n",
       "upper_back         252\n",
       "thigh              208\n",
       "posterior_thigh    187\n",
       "buttocks            75\n",
       "Name: anatomical_location, dtype: int64"
      ]
     },
     "execution_count": 65,
     "metadata": {},
     "output_type": "execute_result"
    }
   ],
   "source": [
    "# intérêt les bouts de peau peuvent être différents\n",
    "df['anatomical_location'].value_counts()"
   ]
  },
  {
   "cell_type": "code",
   "execution_count": 66,
   "metadata": {},
   "outputs": [
    {
     "data": {
      "text/plain": [
       "LB    595\n",
       "UB    252\n",
       "T     208\n",
       "PT    187\n",
       "B      75\n",
       "Name: anatomical_location_label, dtype: int64"
      ]
     },
     "execution_count": 66,
     "metadata": {},
     "output_type": "execute_result"
    }
   ],
   "source": [
    "df['anatomical_location_label'].value_counts()"
   ]
  },
  {
   "cell_type": "code",
   "execution_count": 67,
   "metadata": {},
   "outputs": [
    {
     "data": {
      "text/plain": [
       "NON_LES    886\n",
       "LES        431\n",
       "Name: lesional, dtype: int64"
      ]
     },
     "execution_count": 67,
     "metadata": {},
     "output_type": "execute_result"
    }
   ],
   "source": [
    "# intéressant car peut être dans les gênes que va développer eczéma même si peau non malade\n",
    "df['lesional'].value_counts()"
   ]
  },
  {
   "cell_type": "code",
   "execution_count": 68,
   "metadata": {},
   "outputs": [
    {
     "data": {
      "text/plain": [
       "MAARS_3_086    6\n",
       "MAARS_3_104    6\n",
       "MAARS_3_088    6\n",
       "MAARS_1_106    4\n",
       "MAARS_2_011    4\n",
       "MAARS_1_120    4\n",
       "MAARS_3_018    4\n",
       "MAARS_2_002    4\n",
       "MAARS_2_091    4\n",
       "MAARS_3_008    4\n",
       "MAARS_2_069    4\n",
       "MAARS_2_033    4\n",
       "MAARS_3_021    4\n",
       "MAARS_1_032    4\n",
       "MAARS_2_085    4\n",
       "MAARS_3_010    4\n",
       "MAARS_2_055    4\n",
       "MAARS_2_048    4\n",
       "MAARS_2_052    4\n",
       "MAARS_1_070    4\n",
       "MAARS_1_069    4\n",
       "MAARS_3_081    4\n",
       "MAARS_1_075    4\n",
       "MAARS_3_089    4\n",
       "MAARS_1_133    4\n",
       "MAARS_2_072    4\n",
       "MAARS_3_015    4\n",
       "MAARS_2_017    4\n",
       "MAARS_3_113    4\n",
       "MAARS_1_048    4\n",
       "              ..\n",
       "MAARS_3_007    4\n",
       "MAARS_3_075    4\n",
       "MAARS_3_044    4\n",
       "MAARS_2_018    4\n",
       "MAARS_3_003    4\n",
       "MAARS_3_098    4\n",
       "MAARS_3_035    4\n",
       "MAARS_2_080    4\n",
       "MAARS_1_004    4\n",
       "MAARS_3_042    4\n",
       "MAARS_2_087    4\n",
       "MAARS_1_005    4\n",
       "MAARS_2_046    4\n",
       "MAARS_1_046    4\n",
       "MAARS_2_019    3\n",
       "MAARS_1_013    3\n",
       "MAARS_1_028    3\n",
       "MAARS_3_056    3\n",
       "MAARS_1_130    3\n",
       "MAARS_1_017    3\n",
       "MAARS_3_006    3\n",
       "MAARS_1_023    2\n",
       "MAARS_1_127    2\n",
       "MAARS_1_124    2\n",
       "MAARS_1_022    2\n",
       "MAARS_2_026    2\n",
       "MAARS_1_126    2\n",
       "MAARS_1_014    2\n",
       "MAARS_1_012    2\n",
       "MAARS_1_125    2\n",
       "Name: MAARS_identifier, Length: 334, dtype: int64"
      ]
     },
     "execution_count": 68,
     "metadata": {},
     "output_type": "execute_result"
    }
   ],
   "source": [
    "# est-ce que le nombre de prélévement a un impact sur l'analyse? Sinon suppression des doublons\n",
    "df['MAARS_identifier'].value_counts()"
   ]
  },
  {
   "cell_type": "code",
   "execution_count": 69,
   "metadata": {},
   "outputs": [
    {
     "data": {
      "text/plain": [
       "HHU      472\n",
       "UH       440\n",
       "KINGS    405\n",
       "Name: Institution, dtype: int64"
      ]
     },
     "execution_count": 69,
     "metadata": {},
     "output_type": "execute_result"
    }
   ],
   "source": [
    "#A voir si utile pour l'analyse\n",
    "df['Institution'].value_counts()"
   ]
  },
  {
   "cell_type": "code",
   "execution_count": 70,
   "metadata": {},
   "outputs": [
    {
     "data": {
      "text/plain": [
       "Male      760\n",
       "Female    557\n",
       "Name: Gender, dtype: int64"
      ]
     },
     "execution_count": 70,
     "metadata": {},
     "output_type": "execute_result"
    }
   ],
   "source": [
    "# Echantillon représentatif de la population? Plus d'hommes touchés que de femmes? N'est-on pas en train d'introduire un biais?\n",
    "df['Gender'].value_counts()"
   ]
  },
  {
   "cell_type": "code",
   "execution_count": 71,
   "metadata": {},
   "outputs": [
    {
     "data": {
      "text/plain": [
       "False    1309\n",
       "True        8\n",
       "Name: Known_Allergies_v2..Pseudo_Drug_Allergy, dtype: int64"
      ]
     },
     "execution_count": 71,
     "metadata": {},
     "output_type": "execute_result"
    }
   ],
   "source": [
    "df['Known_Allergies_v2..Pseudo_Drug_Allergy'].value_counts()"
   ]
  },
  {
   "cell_type": "code",
   "execution_count": 72,
   "metadata": {},
   "outputs": [
    {
     "data": {
      "text/plain": [
       "False    1081\n",
       "True      236\n",
       "Name: Concomitant_Medication_v2..Anti.Hypertensive, dtype: int64"
      ]
     },
     "execution_count": 72,
     "metadata": {},
     "output_type": "execute_result"
    }
   ],
   "source": [
    "# On cherche ici à savoir si un traitement médicamenteux pourrait être à l'origine de l'apparition d'eczéma?\n",
    "df['Concomitant_Medication_v2..Anti.Hypertensive'].value_counts()"
   ]
  },
  {
   "cell_type": "code",
   "execution_count": 73,
   "metadata": {},
   "outputs": [
    {
     "data": {
      "text/plain": [
       "False    1274\n",
       "True       43\n",
       "Name: Other_concurrent_chronic_diseases_v2..Hyperlipidemia, dtype: int64"
      ]
     },
     "execution_count": 73,
     "metadata": {},
     "output_type": "execute_result"
    }
   ],
   "source": [
    "df['Other_concurrent_chronic_diseases_v2..Hyperlipidemia'].value_counts()"
   ]
  },
  {
   "cell_type": "code",
   "execution_count": 74,
   "metadata": {},
   "outputs": [
    {
     "data": {
      "text/plain": [
       "moderate           367\n",
       "moderate.severe    265\n",
       "Severe             115\n",
       "mild               112\n",
       "almost_clear         4\n",
       "Name: Global_Assessment_Score, dtype: int64"
      ]
     },
     "execution_count": 74,
     "metadata": {},
     "output_type": "execute_result"
    }
   ],
   "source": [
    "# Almost clear = le moins grave? A reclasser avec des chiffres\n",
    "df['Global_Assessment_Score'].value_counts()"
   ]
  },
  {
   "cell_type": "code",
   "execution_count": 75,
   "metadata": {},
   "outputs": [
    {
     "data": {
      "text/plain": [
       "False    1247\n",
       "True       70\n",
       "Name: CUSTOM_Malignancies_._skin, dtype: int64"
      ]
     },
     "execution_count": 75,
     "metadata": {},
     "output_type": "execute_result"
    }
   ],
   "source": [
    "# Tendance à s'agraver?\n",
    "df['CUSTOM_Malignancies_._skin'].value_counts()"
   ]
  },
  {
   "cell_type": "code",
   "execution_count": 76,
   "metadata": {},
   "outputs": [
    {
     "data": {
      "text/plain": [
       "False    1297\n",
       "True       20\n",
       "Name: CUSTOM_Malignancies_._other, dtype: int64"
      ]
     },
     "execution_count": 76,
     "metadata": {},
     "output_type": "execute_result"
    }
   ],
   "source": [
    "df['CUSTOM_Malignancies_._other'].value_counts()"
   ]
  },
  {
   "cell_type": "code",
   "execution_count": 77,
   "metadata": {},
   "outputs": [
    {
     "data": {
      "text/plain": [
       "False    597\n",
       "True     208\n",
       "Name: CUSTOM_Fam._hist._Atopic_dermatitis, dtype: int64"
      ]
     },
     "execution_count": 77,
     "metadata": {},
     "output_type": "execute_result"
    }
   ],
   "source": [
    "# Valeurs NA : antécédent de l'autre famille de maladie dans la famille\n",
    "df['CUSTOM_Fam._hist._Atopic_dermatitis'].value_counts()"
   ]
  },
  {
   "cell_type": "code",
   "execution_count": 78,
   "metadata": {},
   "outputs": [
    {
     "data": {
      "text/plain": [
       "False    754\n",
       "True     212\n",
       "Name: CUSTOM_Family_History_of_Psoriasis, dtype: int64"
      ]
     },
     "execution_count": 78,
     "metadata": {},
     "output_type": "execute_result"
    }
   ],
   "source": [
    "df['CUSTOM_Family_History_of_Psoriasis'].value_counts()"
   ]
  },
  {
   "cell_type": "markdown",
   "metadata": {
    "collapsed": true
   },
   "source": [
    "3. Exploration des données df_AD"
   ]
  },
  {
   "cell_type": "code",
   "execution_count": 79,
   "metadata": {},
   "outputs": [
    {
     "data": {
      "text/plain": [
       "(94, 297)"
      ]
     },
     "execution_count": 79,
     "metadata": {},
     "output_type": "execute_result"
    }
   ],
   "source": [
    "df_AD.shape"
   ]
  },
  {
   "cell_type": "code",
   "execution_count": 80,
   "metadata": {},
   "outputs": [
    {
     "data": {
      "text/html": [
       "<div>\n",
       "<style>\n",
       "    .dataframe thead tr:only-child th {\n",
       "        text-align: right;\n",
       "    }\n",
       "\n",
       "    .dataframe thead th {\n",
       "        text-align: left;\n",
       "    }\n",
       "\n",
       "    .dataframe tbody tr th {\n",
       "        vertical-align: top;\n",
       "    }\n",
       "</style>\n",
       "<table border=\"1\" class=\"dataframe\">\n",
       "  <thead>\n",
       "    <tr style=\"text-align: right;\">\n",
       "      <th></th>\n",
       "      <th>patient#Identification#MAARS identifier (MAARS_identifier)</th>\n",
       "      <th>patient#Identification#Date of first visit (Date_of_first_visit)</th>\n",
       "      <th>patient#Identification#Institution (Institution)</th>\n",
       "      <th>patient#Identification#Physician (Physician)</th>\n",
       "      <th>patient#Inclusion/Exclusion criteria#Inclusion criteria#Written informed consent (Written_informed_consent)</th>\n",
       "      <th>patient#Inclusion/Exclusion criteria#Inclusion criteria#18 years old or more (18_years_old_or_more)</th>\n",
       "      <th>patient#Inclusion/Exclusion criteria#Inclusion criteria#Patients with Atopic Dermatitis, diagnosed using Hanifin-Rajka Criteria (Patients_with_Atopic_Dermatitis,_diagnosed_using_Hanifin-Rajka_Criteria)</th>\n",
       "      <th>patient#Inclusion/Exclusion criteria#Exclusion criteria#Subject unable to give written informed consent (Subject_unable_to_give_written_informed_consent)</th>\n",
       "      <th>patient#Inclusion/Exclusion criteria#Exclusion criteria#Subject has no allergen-specific IgE and no allergen-specific immediate type reactions (Subject_has_no_allergen-specific_IgE_and_no_allergen-specific_immediate_type_reactions)</th>\n",
       "      <th>patient#Inclusion/Exclusion criteria#Exclusion criteria#Subjects who have received treatment at the biopsy site at least 2 weeks prior to screening (Subjects_who_have_received_treatment_at_the_biopsy_site_at_least_2_weeks_prior_to_screening)</th>\n",
       "      <th>...</th>\n",
       "      <th>blood for genomic DNA#blood for genomic DNA#Excluded (Excluded)</th>\n",
       "      <th>blood for genomic DNA#blood for genomic DNA#Exclusion comments (Exclusion_comments)</th>\n",
       "      <th>blood for PBMC#blood for PBMC#MAARS Sample identifier (MAARS_Sample_identifier)</th>\n",
       "      <th>blood for PBMC#blood for PBMC#Sampling date (Sampling_date)</th>\n",
       "      <th>blood for PBMC#blood for PBMC#Excluded (Excluded)</th>\n",
       "      <th>blood for PBMC#blood for PBMC#Exclusion comments (Exclusion_comments)</th>\n",
       "      <th>plasma#plasma#MAARS Sample identifier (MAARS_Sample_identifier)</th>\n",
       "      <th>plasma#plasma#Sampling date (Sampling_date)</th>\n",
       "      <th>plasma#plasma#Excluded (Excluded)</th>\n",
       "      <th>plasma#plasma#Exclusion comments (Exclusion_comments)</th>\n",
       "    </tr>\n",
       "  </thead>\n",
       "  <tbody>\n",
       "    <tr>\n",
       "      <th>0</th>\n",
       "      <td>MAARS_1_003</td>\n",
       "      <td>06/12/12</td>\n",
       "      <td>HHU</td>\n",
       "      <td>Homey</td>\n",
       "      <td>Yes</td>\n",
       "      <td>Yes</td>\n",
       "      <td>Yes</td>\n",
       "      <td>No</td>\n",
       "      <td>No</td>\n",
       "      <td>No</td>\n",
       "      <td>...</td>\n",
       "      <td>NaN</td>\n",
       "      <td>NaN</td>\n",
       "      <td>MAARS_1_003_08</td>\n",
       "      <td>06/12/12</td>\n",
       "      <td>NaN</td>\n",
       "      <td>NaN</td>\n",
       "      <td>MAARS_1_003_09</td>\n",
       "      <td>06/12/12</td>\n",
       "      <td>NaN</td>\n",
       "      <td>NaN</td>\n",
       "    </tr>\n",
       "    <tr>\n",
       "      <th>1</th>\n",
       "      <td>MAARS_1_008</td>\n",
       "      <td>15/02/12</td>\n",
       "      <td>HHU</td>\n",
       "      <td>Baran</td>\n",
       "      <td>Yes</td>\n",
       "      <td>Yes</td>\n",
       "      <td>Yes</td>\n",
       "      <td>No</td>\n",
       "      <td>No</td>\n",
       "      <td>No</td>\n",
       "      <td>...</td>\n",
       "      <td>NaN</td>\n",
       "      <td>NaN</td>\n",
       "      <td>MAARS_1_008_08</td>\n",
       "      <td>NaN</td>\n",
       "      <td>NaN</td>\n",
       "      <td>NaN</td>\n",
       "      <td>MAARS_1_008_09</td>\n",
       "      <td>NaN</td>\n",
       "      <td>NaN</td>\n",
       "      <td>NaN</td>\n",
       "    </tr>\n",
       "    <tr>\n",
       "      <th>2</th>\n",
       "      <td>MAARS_1_016</td>\n",
       "      <td>14/03/12</td>\n",
       "      <td>HHU</td>\n",
       "      <td>Baran</td>\n",
       "      <td>Yes</td>\n",
       "      <td>Yes</td>\n",
       "      <td>Yes</td>\n",
       "      <td>No</td>\n",
       "      <td>No</td>\n",
       "      <td>No</td>\n",
       "      <td>...</td>\n",
       "      <td>NaN</td>\n",
       "      <td>NaN</td>\n",
       "      <td>MAARS_1_016_08</td>\n",
       "      <td>09/12/11</td>\n",
       "      <td>NaN</td>\n",
       "      <td>NaN</td>\n",
       "      <td>MAARS_1_016_09</td>\n",
       "      <td>09/12/11</td>\n",
       "      <td>NaN</td>\n",
       "      <td>NaN</td>\n",
       "    </tr>\n",
       "    <tr>\n",
       "      <th>3</th>\n",
       "      <td>MAARS_1_017</td>\n",
       "      <td>14/03/12</td>\n",
       "      <td>HHU</td>\n",
       "      <td>Baran</td>\n",
       "      <td>Yes</td>\n",
       "      <td>Yes</td>\n",
       "      <td>Yes</td>\n",
       "      <td>No</td>\n",
       "      <td>No</td>\n",
       "      <td>No</td>\n",
       "      <td>...</td>\n",
       "      <td>NaN</td>\n",
       "      <td>NaN</td>\n",
       "      <td>MAARS_1_017_08</td>\n",
       "      <td>14/03/12</td>\n",
       "      <td>NaN</td>\n",
       "      <td>NaN</td>\n",
       "      <td>MAARS_1_017_09</td>\n",
       "      <td>14/03/12</td>\n",
       "      <td>NaN</td>\n",
       "      <td>NaN</td>\n",
       "    </tr>\n",
       "    <tr>\n",
       "      <th>4</th>\n",
       "      <td>MAARS_1_044</td>\n",
       "      <td>09/05/12</td>\n",
       "      <td>HHU</td>\n",
       "      <td>Jahn</td>\n",
       "      <td>Yes</td>\n",
       "      <td>Yes</td>\n",
       "      <td>Yes</td>\n",
       "      <td>No</td>\n",
       "      <td>No</td>\n",
       "      <td>No</td>\n",
       "      <td>...</td>\n",
       "      <td>NaN</td>\n",
       "      <td>NaN</td>\n",
       "      <td>MAARS_1_044_08</td>\n",
       "      <td>09/05/12</td>\n",
       "      <td>NaN</td>\n",
       "      <td>NaN</td>\n",
       "      <td>MAARS_1_044_09</td>\n",
       "      <td>09/05/12</td>\n",
       "      <td>NaN</td>\n",
       "      <td>NaN</td>\n",
       "    </tr>\n",
       "  </tbody>\n",
       "</table>\n",
       "<p>5 rows × 297 columns</p>\n",
       "</div>"
      ],
      "text/plain": [
       "  patient#Identification#MAARS identifier (MAARS_identifier)  \\\n",
       "0                                        MAARS_1_003           \n",
       "1                                        MAARS_1_008           \n",
       "2                                        MAARS_1_016           \n",
       "3                                        MAARS_1_017           \n",
       "4                                        MAARS_1_044           \n",
       "\n",
       "  patient#Identification#Date of first visit (Date_of_first_visit)  \\\n",
       "0                                           06/12/12                 \n",
       "1                                           15/02/12                 \n",
       "2                                           14/03/12                 \n",
       "3                                           14/03/12                 \n",
       "4                                           09/05/12                 \n",
       "\n",
       "  patient#Identification#Institution (Institution)  \\\n",
       "0                                              HHU   \n",
       "1                                              HHU   \n",
       "2                                              HHU   \n",
       "3                                              HHU   \n",
       "4                                              HHU   \n",
       "\n",
       "  patient#Identification#Physician (Physician)  \\\n",
       "0                                        Homey   \n",
       "1                                        Baran   \n",
       "2                                        Baran   \n",
       "3                                        Baran   \n",
       "4                                         Jahn   \n",
       "\n",
       "  patient#Inclusion/Exclusion criteria#Inclusion criteria#Written informed consent (Written_informed_consent)  \\\n",
       "0                                                Yes                                                            \n",
       "1                                                Yes                                                            \n",
       "2                                                Yes                                                            \n",
       "3                                                Yes                                                            \n",
       "4                                                Yes                                                            \n",
       "\n",
       "  patient#Inclusion/Exclusion criteria#Inclusion criteria#18 years old or more (18_years_old_or_more)  \\\n",
       "0                                                Yes                                                    \n",
       "1                                                Yes                                                    \n",
       "2                                                Yes                                                    \n",
       "3                                                Yes                                                    \n",
       "4                                                Yes                                                    \n",
       "\n",
       "  patient#Inclusion/Exclusion criteria#Inclusion criteria#Patients with Atopic Dermatitis, diagnosed using Hanifin-Rajka Criteria (Patients_with_Atopic_Dermatitis,_diagnosed_using_Hanifin-Rajka_Criteria)  \\\n",
       "0                                                Yes                                                                                                                                                          \n",
       "1                                                Yes                                                                                                                                                          \n",
       "2                                                Yes                                                                                                                                                          \n",
       "3                                                Yes                                                                                                                                                          \n",
       "4                                                Yes                                                                                                                                                          \n",
       "\n",
       "  patient#Inclusion/Exclusion criteria#Exclusion criteria#Subject unable to give written informed consent (Subject_unable_to_give_written_informed_consent)  \\\n",
       "0                                                 No                                                                                                          \n",
       "1                                                 No                                                                                                          \n",
       "2                                                 No                                                                                                          \n",
       "3                                                 No                                                                                                          \n",
       "4                                                 No                                                                                                          \n",
       "\n",
       "  patient#Inclusion/Exclusion criteria#Exclusion criteria#Subject has no allergen-specific IgE and no allergen-specific immediate type reactions (Subject_has_no_allergen-specific_IgE_and_no_allergen-specific_immediate_type_reactions)  \\\n",
       "0                                                 No                                                                                                                                                                                        \n",
       "1                                                 No                                                                                                                                                                                        \n",
       "2                                                 No                                                                                                                                                                                        \n",
       "3                                                 No                                                                                                                                                                                        \n",
       "4                                                 No                                                                                                                                                                                        \n",
       "\n",
       "  patient#Inclusion/Exclusion criteria#Exclusion criteria#Subjects who have received treatment at the biopsy site at least 2 weeks prior to screening (Subjects_who_have_received_treatment_at_the_biopsy_site_at_least_2_weeks_prior_to_screening)  \\\n",
       "0                                                 No                                                                                                                                                                                                  \n",
       "1                                                 No                                                                                                                                                                                                  \n",
       "2                                                 No                                                                                                                                                                                                  \n",
       "3                                                 No                                                                                                                                                                                                  \n",
       "4                                                 No                                                                                                                                                                                                  \n",
       "\n",
       "                           ...                           \\\n",
       "0                          ...                            \n",
       "1                          ...                            \n",
       "2                          ...                            \n",
       "3                          ...                            \n",
       "4                          ...                            \n",
       "\n",
       "  blood for genomic DNA#blood for genomic DNA#Excluded (Excluded)  \\\n",
       "0                                                NaN                \n",
       "1                                                NaN                \n",
       "2                                                NaN                \n",
       "3                                                NaN                \n",
       "4                                                NaN                \n",
       "\n",
       "  blood for genomic DNA#blood for genomic DNA#Exclusion comments (Exclusion_comments)  \\\n",
       "0                                                NaN                                    \n",
       "1                                                NaN                                    \n",
       "2                                                NaN                                    \n",
       "3                                                NaN                                    \n",
       "4                                                NaN                                    \n",
       "\n",
       "  blood for PBMC#blood for PBMC#MAARS Sample identifier (MAARS_Sample_identifier)  \\\n",
       "0                                     MAARS_1_003_08                                \n",
       "1                                     MAARS_1_008_08                                \n",
       "2                                     MAARS_1_016_08                                \n",
       "3                                     MAARS_1_017_08                                \n",
       "4                                     MAARS_1_044_08                                \n",
       "\n",
       "   blood for PBMC#blood for PBMC#Sampling date (Sampling_date)  \\\n",
       "0                                           06/12/12             \n",
       "1                                                NaN             \n",
       "2                                           09/12/11             \n",
       "3                                           14/03/12             \n",
       "4                                           09/05/12             \n",
       "\n",
       "  blood for PBMC#blood for PBMC#Excluded (Excluded)  \\\n",
       "0                                               NaN   \n",
       "1                                               NaN   \n",
       "2                                               NaN   \n",
       "3                                               NaN   \n",
       "4                                               NaN   \n",
       "\n",
       "  blood for PBMC#blood for PBMC#Exclusion comments (Exclusion_comments)  \\\n",
       "0                                                NaN                      \n",
       "1                                                NaN                      \n",
       "2                                                NaN                      \n",
       "3                                                NaN                      \n",
       "4                                                NaN                      \n",
       "\n",
       "  plasma#plasma#MAARS Sample identifier (MAARS_Sample_identifier)  \\\n",
       "0                                     MAARS_1_003_09                \n",
       "1                                     MAARS_1_008_09                \n",
       "2                                     MAARS_1_016_09                \n",
       "3                                     MAARS_1_017_09                \n",
       "4                                     MAARS_1_044_09                \n",
       "\n",
       "  plasma#plasma#Sampling date (Sampling_date)  \\\n",
       "0                                    06/12/12   \n",
       "1                                         NaN   \n",
       "2                                    09/12/11   \n",
       "3                                    14/03/12   \n",
       "4                                    09/05/12   \n",
       "\n",
       "  plasma#plasma#Excluded (Excluded)  \\\n",
       "0                               NaN   \n",
       "1                               NaN   \n",
       "2                               NaN   \n",
       "3                               NaN   \n",
       "4                               NaN   \n",
       "\n",
       "  plasma#plasma#Exclusion comments (Exclusion_comments)  \n",
       "0                                                NaN     \n",
       "1                                                NaN     \n",
       "2                                                NaN     \n",
       "3                                                NaN     \n",
       "4                                                NaN     \n",
       "\n",
       "[5 rows x 297 columns]"
      ]
     },
     "execution_count": 80,
     "metadata": {},
     "output_type": "execute_result"
    }
   ],
   "source": [
    "df_AD.head()"
   ]
  },
  {
   "cell_type": "code",
   "execution_count": 85,
   "metadata": {},
   "outputs": [
    {
     "data": {
      "text/plain": [
       "(32633, 618)"
      ]
     },
     "execution_count": 85,
     "metadata": {},
     "output_type": "execute_result"
    }
   ],
   "source": [
    "df_trans.shape"
   ]
  },
  {
   "cell_type": "code",
   "execution_count": 86,
   "metadata": {},
   "outputs": [
    {
     "data": {
      "text/html": [
       "<div>\n",
       "<style>\n",
       "    .dataframe thead tr:only-child th {\n",
       "        text-align: right;\n",
       "    }\n",
       "\n",
       "    .dataframe thead th {\n",
       "        text-align: left;\n",
       "    }\n",
       "\n",
       "    .dataframe tbody tr th {\n",
       "        vertical-align: top;\n",
       "    }\n",
       "</style>\n",
       "<table border=\"1\" class=\"dataframe\">\n",
       "  <thead>\n",
       "    <tr style=\"text-align: right;\">\n",
       "      <th></th>\n",
       "      <th>MAARS_3_033_03</th>\n",
       "      <th>MAARS_3_032_03</th>\n",
       "      <th>MAARS_3_032_04</th>\n",
       "      <th>MAARS_2_012_03</th>\n",
       "      <th>MAARS_3_007_03</th>\n",
       "      <th>MAARS_3_007_04</th>\n",
       "      <th>MAARS_2_012_04</th>\n",
       "      <th>MAARS_2_004_03</th>\n",
       "      <th>MAARS_2_004_04</th>\n",
       "      <th>MAARS_2_007_04</th>\n",
       "      <th>...</th>\n",
       "      <th>MAARS_1_128_03</th>\n",
       "      <th>MAARS_2_083_03</th>\n",
       "      <th>MAARS_1_010_04</th>\n",
       "      <th>MAARS_1_036_04</th>\n",
       "      <th>MAARS_3_099_04</th>\n",
       "      <th>MAARS_1_076_03</th>\n",
       "      <th>MAARS_1_065_03</th>\n",
       "      <th>MAARS_2_044_03</th>\n",
       "      <th>MAARS_2_056_03</th>\n",
       "      <th>MAARS_1_098_04</th>\n",
       "    </tr>\n",
       "  </thead>\n",
       "  <tbody>\n",
       "    <tr>\n",
       "      <th>ENSG00000000003_at</th>\n",
       "      <td>7.967</td>\n",
       "      <td>7.634</td>\n",
       "      <td>7.893</td>\n",
       "      <td>7.106</td>\n",
       "      <td>6.807</td>\n",
       "      <td>7.375</td>\n",
       "      <td>8.027</td>\n",
       "      <td>7.948</td>\n",
       "      <td>7.606</td>\n",
       "      <td>8.432</td>\n",
       "      <td>...</td>\n",
       "      <td>8.813</td>\n",
       "      <td>7.868</td>\n",
       "      <td>8.643</td>\n",
       "      <td>8.549</td>\n",
       "      <td>8.358</td>\n",
       "      <td>8.157</td>\n",
       "      <td>7.828</td>\n",
       "      <td>7.866</td>\n",
       "      <td>7.705</td>\n",
       "      <td>7.837</td>\n",
       "    </tr>\n",
       "    <tr>\n",
       "      <th>ENSG00000000005_at</th>\n",
       "      <td>5.075</td>\n",
       "      <td>4.886</td>\n",
       "      <td>5.312</td>\n",
       "      <td>4.187</td>\n",
       "      <td>3.958</td>\n",
       "      <td>3.983</td>\n",
       "      <td>6.050</td>\n",
       "      <td>3.980</td>\n",
       "      <td>4.163</td>\n",
       "      <td>6.236</td>\n",
       "      <td>...</td>\n",
       "      <td>4.981</td>\n",
       "      <td>4.004</td>\n",
       "      <td>4.451</td>\n",
       "      <td>4.586</td>\n",
       "      <td>6.048</td>\n",
       "      <td>5.950</td>\n",
       "      <td>5.962</td>\n",
       "      <td>5.474</td>\n",
       "      <td>4.281</td>\n",
       "      <td>4.097</td>\n",
       "    </tr>\n",
       "    <tr>\n",
       "      <th>ENSG00000000419_at</th>\n",
       "      <td>9.043</td>\n",
       "      <td>9.411</td>\n",
       "      <td>9.624</td>\n",
       "      <td>9.430</td>\n",
       "      <td>9.809</td>\n",
       "      <td>9.696</td>\n",
       "      <td>9.809</td>\n",
       "      <td>9.859</td>\n",
       "      <td>9.582</td>\n",
       "      <td>9.477</td>\n",
       "      <td>...</td>\n",
       "      <td>9.726</td>\n",
       "      <td>9.764</td>\n",
       "      <td>9.668</td>\n",
       "      <td>9.274</td>\n",
       "      <td>9.669</td>\n",
       "      <td>9.471</td>\n",
       "      <td>9.382</td>\n",
       "      <td>9.816</td>\n",
       "      <td>9.781</td>\n",
       "      <td>10.130</td>\n",
       "    </tr>\n",
       "    <tr>\n",
       "      <th>ENSG00000000457_at</th>\n",
       "      <td>7.154</td>\n",
       "      <td>7.111</td>\n",
       "      <td>7.161</td>\n",
       "      <td>7.247</td>\n",
       "      <td>6.846</td>\n",
       "      <td>7.076</td>\n",
       "      <td>7.254</td>\n",
       "      <td>6.941</td>\n",
       "      <td>7.127</td>\n",
       "      <td>6.722</td>\n",
       "      <td>...</td>\n",
       "      <td>7.214</td>\n",
       "      <td>7.032</td>\n",
       "      <td>7.088</td>\n",
       "      <td>7.218</td>\n",
       "      <td>7.187</td>\n",
       "      <td>7.007</td>\n",
       "      <td>7.116</td>\n",
       "      <td>7.023</td>\n",
       "      <td>6.718</td>\n",
       "      <td>7.182</td>\n",
       "    </tr>\n",
       "    <tr>\n",
       "      <th>ENSG00000000460_at</th>\n",
       "      <td>5.992</td>\n",
       "      <td>5.819</td>\n",
       "      <td>5.931</td>\n",
       "      <td>5.881</td>\n",
       "      <td>5.975</td>\n",
       "      <td>5.288</td>\n",
       "      <td>5.236</td>\n",
       "      <td>5.928</td>\n",
       "      <td>5.781</td>\n",
       "      <td>5.601</td>\n",
       "      <td>...</td>\n",
       "      <td>5.497</td>\n",
       "      <td>5.511</td>\n",
       "      <td>5.524</td>\n",
       "      <td>5.773</td>\n",
       "      <td>5.419</td>\n",
       "      <td>5.756</td>\n",
       "      <td>5.967</td>\n",
       "      <td>5.363</td>\n",
       "      <td>5.513</td>\n",
       "      <td>6.068</td>\n",
       "    </tr>\n",
       "  </tbody>\n",
       "</table>\n",
       "<p>5 rows × 618 columns</p>\n",
       "</div>"
      ],
      "text/plain": [
       "                    MAARS_3_033_03  MAARS_3_032_03  MAARS_3_032_04  \\\n",
       "ENSG00000000003_at           7.967           7.634           7.893   \n",
       "ENSG00000000005_at           5.075           4.886           5.312   \n",
       "ENSG00000000419_at           9.043           9.411           9.624   \n",
       "ENSG00000000457_at           7.154           7.111           7.161   \n",
       "ENSG00000000460_at           5.992           5.819           5.931   \n",
       "\n",
       "                    MAARS_2_012_03  MAARS_3_007_03  MAARS_3_007_04  \\\n",
       "ENSG00000000003_at           7.106           6.807           7.375   \n",
       "ENSG00000000005_at           4.187           3.958           3.983   \n",
       "ENSG00000000419_at           9.430           9.809           9.696   \n",
       "ENSG00000000457_at           7.247           6.846           7.076   \n",
       "ENSG00000000460_at           5.881           5.975           5.288   \n",
       "\n",
       "                    MAARS_2_012_04  MAARS_2_004_03  MAARS_2_004_04  \\\n",
       "ENSG00000000003_at           8.027           7.948           7.606   \n",
       "ENSG00000000005_at           6.050           3.980           4.163   \n",
       "ENSG00000000419_at           9.809           9.859           9.582   \n",
       "ENSG00000000457_at           7.254           6.941           7.127   \n",
       "ENSG00000000460_at           5.236           5.928           5.781   \n",
       "\n",
       "                    MAARS_2_007_04       ...        MAARS_1_128_03  \\\n",
       "ENSG00000000003_at           8.432       ...                 8.813   \n",
       "ENSG00000000005_at           6.236       ...                 4.981   \n",
       "ENSG00000000419_at           9.477       ...                 9.726   \n",
       "ENSG00000000457_at           6.722       ...                 7.214   \n",
       "ENSG00000000460_at           5.601       ...                 5.497   \n",
       "\n",
       "                    MAARS_2_083_03  MAARS_1_010_04  MAARS_1_036_04  \\\n",
       "ENSG00000000003_at           7.868           8.643           8.549   \n",
       "ENSG00000000005_at           4.004           4.451           4.586   \n",
       "ENSG00000000419_at           9.764           9.668           9.274   \n",
       "ENSG00000000457_at           7.032           7.088           7.218   \n",
       "ENSG00000000460_at           5.511           5.524           5.773   \n",
       "\n",
       "                    MAARS_3_099_04  MAARS_1_076_03  MAARS_1_065_03  \\\n",
       "ENSG00000000003_at           8.358           8.157           7.828   \n",
       "ENSG00000000005_at           6.048           5.950           5.962   \n",
       "ENSG00000000419_at           9.669           9.471           9.382   \n",
       "ENSG00000000457_at           7.187           7.007           7.116   \n",
       "ENSG00000000460_at           5.419           5.756           5.967   \n",
       "\n",
       "                    MAARS_2_044_03  MAARS_2_056_03  MAARS_1_098_04  \n",
       "ENSG00000000003_at           7.866           7.705           7.837  \n",
       "ENSG00000000005_at           5.474           4.281           4.097  \n",
       "ENSG00000000419_at           9.816           9.781          10.130  \n",
       "ENSG00000000457_at           7.023           6.718           7.182  \n",
       "ENSG00000000460_at           5.363           5.513           6.068  \n",
       "\n",
       "[5 rows x 618 columns]"
      ]
     },
     "execution_count": 86,
     "metadata": {},
     "output_type": "execute_result"
    }
   ],
   "source": [
    "df_trans.head()"
   ]
  },
  {
   "cell_type": "code",
   "execution_count": null,
   "metadata": {
    "collapsed": true
   },
   "outputs": [],
   "source": []
  }
 ],
 "metadata": {
  "kernelspec": {
   "display_name": "Python 3",
   "language": "python",
   "name": "python3"
  },
  "language_info": {
   "codemirror_mode": {
    "name": "ipython",
    "version": 3
   },
   "file_extension": ".py",
   "mimetype": "text/x-python",
   "name": "python",
   "nbconvert_exporter": "python",
   "pygments_lexer": "ipython3",
   "version": "3.6.3"
  }
 },
 "nbformat": 4,
 "nbformat_minor": 2
}
